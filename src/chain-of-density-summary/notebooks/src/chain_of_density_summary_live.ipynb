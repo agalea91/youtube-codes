{
 "cells": [
  {
   "cell_type": "markdown",
   "id": "f6fa48d0",
   "metadata": {},
   "source": [
    "# Chain of Density Summary\n",
    "\n",
    "Adams et al. paper: https://arxiv.org/pdf/2309.04269.pdf\n",
    "\n",
    "# GPT-3.5 Prompt\n",
    "\n",
    "Adapted from Adams et al. paper.\n",
    "\n",
    "Modifications:\n",
    "- Include example JSON\n",
    "- Ask for similar length summaries, not exact"
   ]
  },
  {
   "cell_type": "code",
   "execution_count": 1,
   "id": "68cd3dc0",
   "metadata": {},
   "outputs": [],
   "source": [
    "cod_gpt35_prompt_template = \"\"\"Article: {{ARTICLE}} \n",
    "\n",
    "You will generate increasingly concise, entity-dense summaries of the above Article.\n",
    "\n",
    "Repeat the following 2 steps 5 times.\n",
    "\n",
    "Step 1. Identify 1-3 informative Entities (\";\" delimited) from the Article which are missing from the previously generated summary.\n",
    "Step 2. Write a new, denser summary of similar length which covers every entity and detail from the previous summary plus the Missing Entities.\n",
    "\n",
    "A Missing Entity is:\n",
    "- Relevant: to the main story.\n",
    "- Specific: descriptive yet concise (5 words or fewer).\n",
    "- Novel: not in the previous summary.\n",
    "- Faithful: present in the Article.\n",
    "- Anywhere: located anywhere in the Article.\n",
    "\n",
    "Guidelines:\n",
    "- The first summary should be long (4-5 sentences, —80 words) yet highly non-specific, containing little information beyond the entities marked as missing. Use overly verbose language and fillers (e.g., \"this article discusses\") to reach ~80 words.\n",
    "- Make every word count: re-write the previous summary to improve flow and make space for additional entities.\n",
    "- Make space with fusion, compression, and removal of uninformative phrases like \"the article discusses\".\n",
    "- The summaries should become highly dense and concise yet self-contained, e.g., easily understood without the Article.\n",
    "- Missing entities can appear anywhere in the new summary.\n",
    "- Never drop entities from the previous summary. If space cannot be made, add fewer new entities.\n",
    "\n",
    "Answer in JSON. The JSON should be a list of dictionaries whose keys are \"Missing Entities\" and \"Denser Summary\".\n",
    "\n",
    "e.g.\n",
    "\n",
    "[\n",
    "  {\n",
    "    \"Missing Entities\": \"topic 1; topic 2; topic 3\",\n",
    "    \"Denser Summary\": \"...\"\n",
    "  },\n",
    "  {\n",
    "    \"Missing Entities\": \"topic 4; topic 5; topic 6\",\n",
    "    \"Denser Summary\": \"...\"\n",
    "  },\n",
    "  ...\n",
    "]\n",
    "\"\"\""
   ]
  },
  {
   "cell_type": "markdown",
   "id": "7f9643cd",
   "metadata": {},
   "source": [
    "## Analyze GPT-3.5 result\n",
    "\n",
    "Copy and paste ChatGPT JSON outputs into list below"
   ]
  },
  {
   "cell_type": "code",
   "execution_count": 34,
   "id": "83c719a0",
   "metadata": {},
   "outputs": [],
   "source": [
    "json_summaries = [\n",
    "  {\n",
    "    \"Missing Entities\": \"personal liability; car insurance\",\n",
    "    \"Denser Summary\": \"Home insurance, also known as property and casualty insurance, safeguards your home and belongings against theft, loss, or damage. It may extend coverage to additional living expenses during home unavailability. Condo insurance, distinct from home insurance, covers the inside of your condo and personal liability. Tenant’s insurance, applicable to renters, protects possessions, covers accidental damage, and offers liability coverage. Home-based businesses require separate business insurance, as home insurance may not cover related claims. Understand coverage types, including personal property and liability coverage. Be aware that home insurance excludes predictable events and certain unexpected events. Premiums vary, affected by factors such as residence type, location, and coverage selected.\"\n",
    "  },\n",
    "  {\n",
    "    \"Missing Entities\": \"home insurance settlement; deductible; loss payee clause\",\n",
    "    \"Denser Summary\": \"Home insurance settlement options involve determining how your claim will be settled. You are responsible for a deductible, an amount you pay before your insurance company covers the rest. Settlements can be based on actual cash value, factoring in depreciation, or replacement value, covering the cost to replace an item. If you have a mortgage, a loss payee clause makes your lender the beneficiary, receiving the claim payout up to the mortgage balance. Your insurance company may choose to pay you directly for repairs or provide funds to your lender, who then disburses the money after you submit receipts as proof.\"\n",
    "  },\n",
    "  {\n",
    "    \"Missing Entities\": \"property and casualty insurance; loss of business equipment\",\n",
    "    \"Denser Summary\": \"Home insurance, referred to as property and casualty insurance, shields your home and belongings. Condo insurance is distinct, covering the inside of your condo and personal liability. Tenant’s insurance is crucial for renters, covering possessions, accidental damage, and liability. Home-based businesses need separate business insurance, as home insurance may not fully cover business-related claims. Understand personal property and liability coverage. Home insurance excludes predictable and certain unexpected events. Premiums vary based on factors like residence type and location. Settlement options involve actual cash value or replacement value. If you have a mortgage, a loss payee clause makes your lender the beneficiary.\"\n",
    "  },\n",
    "  {\n",
    "    \"Missing Entities\": \"insurance company; liability coverage; home insurance for unexpected events\",\n",
    "    \"Denser Summary\": \"Home insurance, or property and casualty insurance, safeguards your home and possessions against theft, loss, or damage, providing additional living expense coverage. Condo insurance specifically covers the inside of your condo and personal liability. Tenant’s insurance is essential for renters, offering coverage for possessions, accidental damage, and liability. Separate business insurance is necessary for home-based businesses, as home insurance may not fully cover business-related claims. Understand personal property and liability coverage. Home insurance excludes certain unexpected events. Premiums vary based on factors like residence type and location. Settlement options involve actual cash value or replacement value.\"\n",
    "  },\n",
    "  {\n",
    "    \"Missing Entities\": \"disaster insurance; insurance works; loss payee clause\",\n",
    "    \"Denser Summary\": \"Home insurance, also known as property and casualty insurance, protects your home and belongings from theft, loss, or damage, with coverage for additional living expenses. Condo insurance is distinct, covering the inside of your condo and personal liability. Tenant’s insurance is crucial for renters, offering coverage for possessions, accidental damage, and liability. Home-based businesses require separate business insurance, as home insurance may not fully cover business-related claims. Understand personal property and liability coverage. Home insurance excludes certain unexpected events. Premiums vary based on factors like residence type and location. Settlement options involve actual cash value or replacement value. A loss payee clause makes your mortgage lender the beneficiary if you have a mortgage.\"\n",
    "  },\n",
    "  {\n",
    "    \"Missing Entities\": \"home insurance for unexpected events; business insurance coverage\",\n",
    "    \"Denser Summary\": \"Home insurance, also termed property and casualty insurance, safeguards your home and possessions against theft, loss, or damage, with coverage for additional living expenses. Condo insurance specifically covers the inside of your condo and personal liability. Tenant’s insurance is essential for renters, offering coverage for possessions, accidental damage, and liability. Separate business insurance is necessary for home-based businesses, as home insurance may not fully cover business-related claims. Understand personal property and liability coverage. Home insurance excludes certain unexpected events. Premiums vary based on factors like residence type and location. Settlement options involve actual cash value or replacement value.\"\n",
    "  }\n",
    "]\n"
   ]
  },
  {
   "cell_type": "code",
   "execution_count": 35,
   "id": "f96f8166",
   "metadata": {},
   "outputs": [],
   "source": [
    "from IPython.display import HTML\n",
    "import re\n",
    "\n",
    "def cod_summary_analysis_html(json_summaries):\n",
    "    html = []\n",
    "    topic_lists = []\n",
    "    for i, json_summary in enumerate(json_summaries):\n",
    "        summary_text = json_summary[\"Denser Summary\"]\n",
    "        new_topics = json_summary[\"Missing Entities\"]\n",
    "        new_topics_split = [topic.strip() for topic in new_topics.split(\";\") if topic.strip()]\n",
    "        topic_lists.append(new_topics_split)\n",
    "        for j, topics in enumerate(topic_lists):\n",
    "            for topic in topics:\n",
    "                topic_regex = f\"[{topic[0].upper()}{topic[0].lower()}]\" + topic[1:] # replace leading upper case with regex match\n",
    "                topic_regex = topic_regex.replace(\"(\", r\"\\(\")\n",
    "                topic_regex = topic_regex.replace(\")\", r\"\\)\")\n",
    "                topic_regex = topic_regex.replace(\" \", r\"\\s\")\n",
    "                summary_text = re.sub(rf\"({topic_regex})\", rf\"<b>\\1 [{j+1}]</b>\", summary_text)\n",
    "        html.append(f\"<h3>SUMMARY #{i+1}</h3>\")\n",
    "        html.append(f\"<div>New Topics: {new_topics}</div><br>\")\n",
    "        html.append(f\"<div>{summary_text}</div>\")\n",
    "        html.append(\"<hr>\")\n",
    "    return html"
   ]
  },
  {
   "cell_type": "code",
   "execution_count": 36,
   "id": "24e186b2",
   "metadata": {},
   "outputs": [
    {
     "data": {
      "text/html": [
       "<h3>SUMMARY #1</h3>\n",
       "<div>New Topics: personal liability; car insurance</div><br>\n",
       "<div>Home insurance, also known as property and casualty insurance, safeguards your home and belongings against theft, loss, or damage. It may extend coverage to additional living expenses during home unavailability. Condo insurance, distinct from home insurance, covers the inside of your condo and <b>personal liability [1]</b>. Tenant’s insurance, applicable to renters, protects possessions, covers accidental damage, and offers liability coverage. Home-based businesses require separate business insurance, as home insurance may not cover related claims. Understand coverage types, including personal property and liability coverage. Be aware that home insurance excludes predictable events and certain unexpected events. Premiums vary, affected by factors such as residence type, location, and coverage selected.</div>\n",
       "<hr>\n",
       "<h3>SUMMARY #2</h3>\n",
       "<div>New Topics: home insurance settlement; deductible; loss payee clause</div><br>\n",
       "<div><b>Home insurance settlement [2]</b> options involve determining how your claim will be settled. You are responsible for a <b>deductible [2]</b>, an amount you pay before your insurance company covers the rest. Settlements can be based on actual cash value, factoring in depreciation, or replacement value, covering the cost to replace an item. If you have a mortgage, a <b>loss payee clause [2]</b> makes your lender the beneficiary, receiving the claim payout up to the mortgage balance. Your insurance company may choose to pay you directly for repairs or provide funds to your lender, who then disburses the money after you submit receipts as proof.</div>\n",
       "<hr>\n",
       "<h3>SUMMARY #3</h3>\n",
       "<div>New Topics: property and casualty insurance; loss of business equipment</div><br>\n",
       "<div>Home insurance, referred to as <b>property and casualty insurance [3]</b>, shields your home and belongings. Condo insurance is distinct, covering the inside of your condo and <b>personal liability [1]</b>. Tenant’s insurance is crucial for renters, covering possessions, accidental damage, and liability. Home-based businesses need separate business insurance, as home insurance may not fully cover business-related claims. Understand personal property and liability coverage. Home insurance excludes predictable and certain unexpected events. Premiums vary based on factors like residence type and location. Settlement options involve actual cash value or replacement value. If you have a mortgage, a <b>loss payee clause [2]</b> makes your lender the beneficiary.</div>\n",
       "<hr>\n",
       "<h3>SUMMARY #4</h3>\n",
       "<div>New Topics: insurance company; liability coverage; home insurance for unexpected events</div><br>\n",
       "<div>Home insurance, or <b>property and casualty insurance [3]</b>, safeguards your home and possessions against theft, loss, or damage, providing additional living expense coverage. Condo insurance specifically covers the inside of your condo and <b>personal liability [1]</b>. Tenant’s insurance is essential for renters, offering coverage for possessions, accidental damage, and liability. Separate business insurance is necessary for home-based businesses, as home insurance may not fully cover business-related claims. Understand personal property and <b>liability coverage [4]</b>. Home insurance excludes certain unexpected events. Premiums vary based on factors like residence type and location. Settlement options involve actual cash value or replacement value.</div>\n",
       "<hr>\n",
       "<h3>SUMMARY #5</h3>\n",
       "<div>New Topics: disaster insurance; insurance works; loss payee clause</div><br>\n",
       "<div>Home insurance, also known as <b>property and casualty insurance [3]</b>, protects your home and belongings from theft, loss, or damage, with coverage for additional living expenses. Condo insurance is distinct, covering the inside of your condo and <b>personal liability [1]</b>. Tenant’s insurance is crucial for renters, offering coverage for possessions, accidental damage, and liability. Home-based businesses require separate business insurance, as home insurance may not fully cover business-related claims. Understand personal property and <b>liability coverage [4]</b>. Home insurance excludes certain unexpected events. Premiums vary based on factors like residence type and location. Settlement options involve actual cash value or replacement value. A <b><b>loss payee clause [5]</b> [2]</b> makes your mortgage lender the beneficiary if you have a mortgage.</div>\n",
       "<hr>\n",
       "<h3>SUMMARY #6</h3>\n",
       "<div>New Topics: home insurance for unexpected events; business insurance coverage</div><br>\n",
       "<div>Home insurance, also termed <b>property and casualty insurance [3]</b>, safeguards your home and possessions against theft, loss, or damage, with coverage for additional living expenses. Condo insurance specifically covers the inside of your condo and <b>personal liability [1]</b>. Tenant’s insurance is essential for renters, offering coverage for possessions, accidental damage, and liability. Separate business insurance is necessary for home-based businesses, as home insurance may not fully cover business-related claims. Understand personal property and <b>liability coverage [4]</b>. Home insurance excludes certain unexpected events. Premiums vary based on factors like residence type and location. Settlement options involve actual cash value or replacement value.</div>\n",
       "<hr>"
      ],
      "text/plain": [
       "<IPython.core.display.HTML object>"
      ]
     },
     "execution_count": 36,
     "metadata": {},
     "output_type": "execute_result"
    }
   ],
   "source": [
    "HTML(\"\\n\".join(cod_summary_analysis_html(json_summaries)))"
   ]
  },
  {
   "cell_type": "markdown",
   "id": "271dc5b5",
   "metadata": {},
   "source": [
    "# GPT-4 Prompt\n",
    "\n",
    "Replicated from Adams et al. paper exactly."
   ]
  },
  {
   "cell_type": "code",
   "execution_count": 5,
   "id": "2248341d",
   "metadata": {},
   "outputs": [],
   "source": [
    "cod_gpt4_prompt_template = \"\"\"Article: {{ARTICLE}}\n",
    "\n",
    "You will generate increasingly concise, entity-dense summaries of the above Article.\n",
    "\n",
    "Repeat the following 2 steps 5 times.\n",
    "\n",
    "Step 1. Identify 1-3 informative Entities (\";\" delimited) from the Article which are missing from the previously generated summary.\n",
    "Step 2. Write a new, denser summary of identical length which covers every entity and detail from the previous summary plus the Missing Entities.\n",
    "\n",
    "A Missing Entity is:\n",
    "- Relevant: to the main story.\n",
    "- Specific: descriptive yet concise (5 words or fewer).\n",
    "- Novel: not in the previous summary.\n",
    "- Faithful: present in the Article.\n",
    "- Anywhere: located anywhere in the Article.\n",
    "\n",
    "Guidelines:\n",
    "- The first summary should be long (4-5 sentences, —80 words) yet highly non-specific, containing little information beyond the entities marked as missing. Use overly verbose language and fillers (e.g., \"this article discusses\") to reach ~80 words.\n",
    "- Make every word count: re-write the previous summary to improve flow and make space for additional entities.\n",
    "- Make space with fusion, compression, and removal of uninformative phrases like \"the article discusses\".\n",
    "- The summaries should become highly dense and concise yet self-contained, e.g., easily understood without the Article.\n",
    "- Missing entities can appear anywhere in the new summary.\n",
    "- Never drop entities from the previous summary. If space cannot be made, add fewer new entities.\n",
    "\n",
    "Remember, use the exact same number of words for each summary.\n",
    "\n",
    "Answer in JSON. The JSON should be a list (length 5) of dictionaries whose keys are \"Missing Entities\" and \"Denser Summary\".\n",
    "\"\"\""
   ]
  },
  {
   "cell_type": "markdown",
   "id": "2eb2c1e1",
   "metadata": {},
   "source": [
    "## Fetch and analyze GPT-4 result"
   ]
  },
  {
   "cell_type": "code",
   "execution_count": 6,
   "id": "f05d0bb2",
   "metadata": {},
   "outputs": [],
   "source": [
    "from openai import OpenAI\n",
    "import tiktoken\n",
    "import json\n",
    "import os"
   ]
  },
  {
   "cell_type": "code",
   "execution_count": 7,
   "id": "0785f03a",
   "metadata": {},
   "outputs": [],
   "source": [
    "# os.environ[\"OPENAI_API_KEY\"] = \"...\"\n",
    "assert os.getenv(\"OPENAI_API_KEY\") is not None"
   ]
  },
  {
   "cell_type": "code",
   "execution_count": 8,
   "id": "4e6408c0",
   "metadata": {},
   "outputs": [
    {
     "name": "stdout",
     "output_type": "stream",
     "text": [
      "Model(id='gpt-4', created=1687882411, object='model', owned_by='openai')\n",
      "Model(id='gpt-4-vision-preview', created=1698894917, object='model', owned_by='system')\n",
      "Model(id='gpt-4-0314', created=1687882410, object='model', owned_by='openai')\n",
      "Model(id='gpt-4-0613', created=1686588896, object='model', owned_by='openai')\n",
      "Model(id='gpt-4-1106-preview', created=1698957206, object='model', owned_by='system')\n"
     ]
    }
   ],
   "source": [
    "client = OpenAI()\n",
    "for model in client.models.list().data:\n",
    "    if \"gpt-4\" in model.id:\n",
    "        print(model)"
   ]
  },
  {
   "cell_type": "code",
   "execution_count": 37,
   "id": "9f268418",
   "metadata": {},
   "outputs": [],
   "source": [
    "article = \"\"\"\n",
    "Home insurance\n",
    "From: Financial Consumer Agency of Canada\n",
    "\n",
    "On this page\n",
    "Understanding home insurance\n",
    "Condominium insurance\n",
    "Tenant’s insurance\n",
    "Insurance for a home-based business\n",
    "Home insurance coverage\n",
    "Home insurance premiums\n",
    "Home insurance settlement options\n",
    "Settling a claim if you have a mortgage\n",
    "Understanding home insurance\n",
    "Home insurance helps protect your home and your belongings in case of theft, loss or damage. It may also help cover additional living expenses if you're temporarily unable to live in your home. These may include living in a hotel or renting a home.\n",
    "\n",
    "Your home insurance may cover:\n",
    "\n",
    "damage or loss to your home\n",
    "damage, theft or loss of your personal possessions\n",
    "personal property stolen from your vehicle\n",
    "damage or injury to others who visit your home or property\n",
    "accidental damage you cause to somebody else’s property\n",
    "Insurance companies may refer to home insurance as property and casualty insurance. Property and casualty insurance also includes car insurance, business insurance and disaster insurance.\n",
    "\n",
    "Who your home insurance policy covers\n",
    "Generally, your home insurance policy covers you and your family members.\n",
    "\n",
    "If you share your home or if you rent a part of it, you must inform your insurance company.\n",
    "\n",
    "Check with your insurance company, agent or broker to review who your policy covers.\n",
    "\n",
    "Condominium insurance\n",
    "Condominium (condo) insurance is different from home insurance. It covers damage or loss to the inside of your condo and your storage locker. It also covers personal liability claims for someone injured in your condo.\n",
    "\n",
    "Your condo corporation has an insurance policy that covers the outside structure of the building and its common areas.\n",
    "\n",
    "Condo insurance may pay for:\n",
    "\n",
    "damage to the inside structure of your condo\n",
    "damage to, or loss of, your belongings\n",
    "damage to improvements you, or the previous owners, made to your condo\n",
    "damage to other condos or common areas caused by an accident in your condo\n",
    "additional living expenses, up to a certain amount. For example, if you're temporarily unable to live in your condo because of a loss covered by your policy\n",
    "Review your condo insurance policy coverage and your condo’s corporation insurance policy coverage.\n",
    "\n",
    "Tenant’s insurance\n",
    "You may want to consider buying tenant’s insurance if you live in an apartment or rent a home. Insurance companies may refer to it as renter’s insurance.\n",
    "\n",
    "You should have enough insurance to cover the cost of replacing everything in your home.\n",
    "\n",
    "Tenant’s insurance may pay for:\n",
    "\n",
    "damage to or loss of your possessions if you rent or lease your apartment or home from someone else\n",
    "personal property stolen from your vehicle\n",
    "accidental damage you cause to any part of the apartment building or home you're renting\n",
    "injury to visitors\n",
    "additional living expenses, within a certain limit. For example, if you're temporarily unable to live in your apartment because of a loss covered by your policy\n",
    "Insurance for a home-based business\n",
    "Consider getting business insurance if you have a home-based business.\n",
    "\n",
    "Home insurance isn't business insurance. If you have a home-based business, you must notify your insurer. Using your home for purposes that your insurer isn't aware of may cancel your policy.\n",
    "\n",
    "Home insurance generally won't cover claims related to your home-based business. Your home insurance policy may provide limited coverage for damage or loss of business equipment. This coverage is only for the business equipment that is in your home. Business equipment may include computers and power tools. The limited coverage may not be enough to cover the cost of repairing or replacing your business equipment.\n",
    "\n",
    "Home insurance won't cover:\n",
    "\n",
    "equipment that is damaged while in your home, if used for business purposes\n",
    "stolen or damaged equipment while in your vehicle or outside of your home\n",
    "stolen or damaged tools while in your vehicle or outside of your home\n",
    "injury to a client while visiting your home, also known as personal liability\n",
    "Review your home insurance policy to confirm what coverage, if any, it will provide for a home-based business.\n",
    "\n",
    "Learn more about the types of business insurance coverage.\n",
    "\n",
    "Home insurance coverage\n",
    "Make sure you understand what your home insurance covers. You should also understand what types of settlement to expect if you make a claim. Speak with your licensed insurance agent or registered insurance broker.\n",
    "\n",
    "Types of home insurance coverage\n",
    "Coverage is the maximum amount of money your insurance company will pay you if you make a claim.\n",
    "\n",
    "For home insurance, you may need a combination of 2 types of coverage: personal property coverage and liability coverage.\n",
    "\n",
    "Personal property coverage\n",
    "Personal property coverage protects you from loss or damage to:\n",
    "\n",
    "your home or personal possessions\n",
    "your car\n",
    "To figure out how much coverage you need, make a list of all your possessions with the following information:\n",
    "\n",
    "cost to replace the item (replacement value)\n",
    "make and model of your car\n",
    "serial number of your car\n",
    "pictures of your belongings\n",
    "receipts for major items\n",
    "This list might be useful if you need to make an insurance claim in the future.\n",
    "\n",
    "Liability coverage\n",
    "Liability coverage protects you against legal liability for losses caused by:\n",
    "\n",
    "injury to other people\n",
    "damage to the property of others\n",
    "Read your policy carefully before signing. Make sure you understand what your policy does and doesn’t cover.\n",
    "\n",
    "Ask your insurance agent or broker about anything you don't understand.\n",
    "\n",
    "Learn more about the types of home insurance coverage.\n",
    "\n",
    "What your home insurance policy doesn’t cover\n",
    "Home insurance doesn’t cover predictable events and certain types of unexpected events.\n",
    "\n",
    "Unexpected events\n",
    "Your home insurance may cover certain types of unexpected events or accidents such as fire, windstorm, or theft. However, unexpected events such as earthquakes and floods are usually not covered. You may need to buy additional coverage for these types of events.\n",
    "\n",
    "Learn more about home insurance for unexpected events and disasters.\n",
    "\n",
    "Predictable events\n",
    "Your insurance company doesn’t cover events that they consider predictable and related to the maintenance of your home. For example, suppose you're away for more than 4 days in a row when it's cold outside. Your home insurance may not cover damage to your home because of your pipes freezing.\n",
    "\n",
    "Home insurance premiums\n",
    "Premiums are the amount you pay to buy insurance.\n",
    "\n",
    "When determining how much you'll pay for premiums, insurance companies may consider factors like:\n",
    "\n",
    "the type of residence you live in, such as a single family home, semi-detached or condo\n",
    "characteristics of your residence, such as materials it’s made of, age, size, location, replacement value\n",
    "value of your property and contents they must insure\n",
    "the distance between your home and a fire hydrant or a fire station\n",
    "the crime rate in your neighbourhood\n",
    "your claims history\n",
    "the type of policy and coverage you selected\n",
    "the amount of your deductible\n",
    "A deductible is the amount of your claim that you agree to pay before your insurance company pays the rest.\n",
    "\n",
    "Shop around for the lowest insurance premiums\n",
    "Your premiums will vary from one insurance company to another. Shop around, ask for quotes and compare prices before deciding on one insurance company. In some cases, you may be eligible for a discount by combining both your home and car insurance.\n",
    "\n",
    "In certain provinces and territories, insurance companies may charge higher premiums based on your credit score.\n",
    "\n",
    "Learn how insurance works.\n",
    "\n",
    "Home insurance settlement options\n",
    "Your insurance company will review your claim and decide how it will settle it.\n",
    "\n",
    "When you make a claim, you're always responsible for paying the deductible. The amount of money you get from your insurance company will depend on your insurance benefits.\n",
    "\n",
    "Actual cash value\n",
    "Actual cash value coverage gives you the cost of the item when it was new, minus depreciation. Depreciation is the loss of value due to the age and condition of the item. The depreciation depends on the item insured and the insurance company.\n",
    "\n",
    "For example, suppose a fire damages your computer. Your insurer will only cover the cost of your computer based on its reduced value at the time of the claim.\n",
    "\n",
    "Replacement value\n",
    "Replacement value coverage gives you the actual cost to replace an item following a covered loss.\n",
    "\n",
    "For example, suppose a fire damaged your computer. You bought your computer 5 years ago for $2,000. Your insurer will cover the cost of buying a new computer of similar quality to the one you lost.\n",
    "\n",
    "Settling a claim if you have a mortgage\n",
    "If you have a mortgage, your home insurance policy will usually include a loss payee clause. A loss payee clause makes your mortgage lender your beneficiary. In case of loss or damage to your home, your insurance company will pay your lender (your beneficiary). They’ll pay up to the balance of your mortgage when you submit a claim.\n",
    "\n",
    "When you make a claim, your insurance company may, at their discretion, give the money to either:\n",
    "\n",
    "you, so you can fix your home when you submit a claim\n",
    "your lender, who would then give you the money for repairs or replacement after you submit receipts as proof\n",
    "\"\"\""
   ]
  },
  {
   "cell_type": "code",
   "execution_count": 38,
   "id": "b6b7e87b",
   "metadata": {},
   "outputs": [],
   "source": [
    "prompt = cod_gpt4_prompt_template.replace(\"{{ARTICLE}}\", article)"
   ]
  },
  {
   "cell_type": "code",
   "execution_count": 39,
   "id": "014e83b0",
   "metadata": {},
   "outputs": [
    {
     "data": {
      "text/plain": [
       "'Article: \\nHome insurance\\nFrom: Financial Consumer Agency of Canada\\n\\nOn this page\\nUnderstanding home insurance\\nCondominium insurance\\nTenant’s insurance\\nInsurance for a home-based business\\nHome insurance coverage\\nHome insurance premiums\\nHome insurance settlement options\\nSettling a claim if you have a mortgage\\nUnderstanding home insurance\\nHome insurance helps protect your home and your belongings in case of theft, loss or damage. It may also help cover additional living expenses if you\\'re temporarily unable to live in your home. These may include living in a hotel or renting a home.\\n\\nYour home insurance may cover:\\n\\ndamage or loss to your home\\ndamage, theft or loss of your personal possessions\\npersonal property stolen from your vehicle\\ndamage or injury to others who visit your home or property\\naccidental damage you cause to somebody else’s property\\nInsurance companies may refer to home insurance as property and casualty insurance. Property and casualty insurance also includes car insurance, business insurance and disaster insurance.\\n\\nWho your home insurance policy covers\\nGenerally, your home insurance policy covers you and your family members.\\n\\nIf you share your home or if you rent a part of it, you must inform your insurance company.\\n\\nCheck with your insurance company, agent or broker to review who your policy covers.\\n\\nCondominium insurance\\nCondominium (condo) insurance is different from home insurance. It covers damage or loss to the inside of your condo and your storage locker. It also covers personal liability claims for someone injured in your condo.\\n\\nYour condo corporation has an insurance policy that covers the outside structure of the building and its common areas.\\n\\nCondo insurance may pay for:\\n\\ndamage to the inside structure of your condo\\ndamage to, or loss of, your belongings\\ndamage to improvements you, or the previous owners, made to your condo\\ndamage to other condos or common areas caused by an accident in your condo\\nadditional living expenses, up to a certain amount. For example, if you\\'re temporarily unable to live in your condo because of a loss covered by your policy\\nReview your condo insurance policy coverage and your condo’s corporation insurance policy coverage.\\n\\nTenant’s insurance\\nYou may want to consider buying tenant’s insurance if you live in an apartment or rent a home. Insurance companies may refer to it as renter’s insurance.\\n\\nYou should have enough insurance to cover the cost of replacing everything in your home.\\n\\nTenant’s insurance may pay for:\\n\\ndamage to or loss of your possessions if you rent or lease your apartment or home from someone else\\npersonal property stolen from your vehicle\\naccidental damage you cause to any part of the apartment building or home you\\'re renting\\ninjury to visitors\\nadditional living expenses, within a certain limit. For example, if you\\'re temporarily unable to live in your apartment because of a loss covered by your policy\\nInsurance for a home-based business\\nConsider getting business insurance if you have a home-based business.\\n\\nHome insurance isn\\'t business insurance. If you have a home-based business, you must notify your insurer. Using your home for purposes that your insurer isn\\'t aware of may cancel your policy.\\n\\nHome insurance generally won\\'t cover claims related to your home-based business. Your home insurance policy may provide limited coverage for damage or loss of business equipment. This coverage is only for the business equipment that is in your home. Business equipment may include computers and power tools. The limited coverage may not be enough to cover the cost of repairing or replacing your business equipment.\\n\\nHome insurance won\\'t cover:\\n\\nequipment that is damaged while in your home, if used for business purposes\\nstolen or damaged equipment while in your vehicle or outside of your home\\nstolen or damaged tools while in your vehicle or outside of your home\\ninjury to a client while visiting your home, also known as personal liability\\nReview your home insurance policy to confirm what coverage, if any, it will provide for a home-based business.\\n\\nLearn more about the types of business insurance coverage.\\n\\nHome insurance coverage\\nMake sure you understand what your home insurance covers. You should also understand what types of settlement to expect if you make a claim. Speak with your licensed insurance agent or registered insurance broker.\\n\\nTypes of home insurance coverage\\nCoverage is the maximum amount of money your insurance company will pay you if you make a claim.\\n\\nFor home insurance, you may need a combination of 2 types of coverage: personal property coverage and liability coverage.\\n\\nPersonal property coverage\\nPersonal property coverage protects you from loss or damage to:\\n\\nyour home or personal possessions\\nyour car\\nTo figure out how much coverage you need, make a list of all your possessions with the following information:\\n\\ncost to replace the item (replacement value)\\nmake and model of your car\\nserial number of your car\\npictures of your belongings\\nreceipts for major items\\nThis list might be useful if you need to make an insurance claim in the future.\\n\\nLiability coverage\\nLiability coverage protects you against legal liability for losses caused by:\\n\\ninjury to other people\\ndamage to the property of others\\nRead your policy carefully before signing. Make sure you understand what your policy does and doesn’t cover.\\n\\nAsk your insurance agent or broker about anything you don\\'t understand.\\n\\nLearn more about the types of home insurance coverage.\\n\\nWhat your home insurance policy doesn’t cover\\nHome insurance doesn’t cover predictable events and certain types of unexpected events.\\n\\nUnexpected events\\nYour home insurance may cover certain types of unexpected events or accidents such as fire, windstorm, or theft. However, unexpected events such as earthquakes and floods are usually not covered. You may need to buy additional coverage for these types of events.\\n\\nLearn more about home insurance for unexpected events and disasters.\\n\\nPredictable events\\nYour insurance company doesn’t cover events that they consider predictable and related to the maintenance of your home. For example, suppose you\\'re away for more than 4 days in a row when it\\'s cold outside. Your home insurance may not cover damage to your home because of your pipes freezing.\\n\\nHome insurance premiums\\nPremiums are the amount you pay to buy insurance.\\n\\nWhen determining how much you\\'ll pay for premiums, insurance companies may consider factors like:\\n\\nthe type of residence you live in, such as a single family home, semi-detached or condo\\ncharacteristics of your residence, such as materials it’s made of, age, size, location, replacement value\\nvalue of your property and contents they must insure\\nthe distance between your home and a fire hydrant or a fire station\\nthe crime rate in your neighbourhood\\nyour claims history\\nthe type of policy and coverage you selected\\nthe amount of your deductible\\nA deductible is the amount of your claim that you agree to pay before your insurance company pays the rest.\\n\\nShop around for the lowest insurance premiums\\nYour premiums will vary from one insurance company to another. Shop around, ask for quotes and compare prices before deciding on one insurance company. In some cases, you may be eligible for a discount by combining both your home and car insurance.\\n\\nIn certain provinces and territories, insurance companies may charge higher premiums based on your credit score.\\n\\nLearn how insurance works.\\n\\nHome insurance settlement options\\nYour insurance company will review your claim and decide how it will settle it.\\n\\nWhen you make a claim, you\\'re always responsible for paying the deductible. The amount of money you get from your insurance company will depend on your insurance benefits.\\n\\nActual cash value\\nActual cash value coverage gives you the cost of the item when it was new, minus depreciation. Depreciation is the loss of value due to the age and condition of the item. The depreciation depends on the item insured and the insurance company.\\n\\nFor example, suppose a fire damages your computer. Your insurer will only cover the cost of your computer based on its reduced value at the time of the claim.\\n\\nReplacement value\\nReplacement value coverage gives you the actual cost to replace an item following a covered loss.\\n\\nFor example, suppose a fire damaged your computer. You bought your computer 5 years ago for $2,000. Your insurer will cover the cost of buying a new computer of similar quality to the one you lost.\\n\\nSettling a claim if you have a mortgage\\nIf you have a mortgage, your home insurance policy will usually include a loss payee clause. A loss payee clause makes your mortgage lender your beneficiary. In case of loss or damage to your home, your insurance company will pay your lender (your beneficiary). They’ll pay up to the balance of your mortgage when you submit a claim.\\n\\nWhen you make a claim, your insurance company may, at their discretion, give the money to either:\\n\\nyou, so you can fix your home when you submit a claim\\nyour lender, who would then give you the money for repairs or replacement after you submit receipts as proof\\n\\n\\nYou will generate increasingly concise, entity-dense summaries of the above Article.\\n\\nRepeat the following 2 steps 5 times.\\n\\nStep 1. Identify 1-3 informative Entities (\";\" delimited) from the Article which are missing from the previously generated summary.\\nStep 2. Write a new, denser summary of identical length which covers every entity and detail from the previous summary plus the Missing Entities.\\n\\nA Missing Entity is:\\n- Relevant: to the main story.\\n- Specific: descriptive yet concise (5 words or fewer).\\n- Novel: not in the previous summary.\\n- Faithful: present in the Article.\\n- Anywhere: located anywhere in the Article.\\n\\nGuidelines:\\n- The first summary should be long (4-5 sentences, —80 words) yet highly non-specific, containing little information beyond the entities marked as missing. Use overly verbose language and fillers (e.g., \"this article discusses\") to reach ~80 words.\\n- Make every word count: re-write the previous summary to improve flow and make space for additional entities.\\n- Make space with fusion, compression, and removal of uninformative phrases like \"the article discusses\".\\n- The summaries should become highly dense and concise yet self-contained, e.g., easily understood without the Article.\\n- Missing entities can appear anywhere in the new summary.\\n- Never drop entities from the previous summary. If space cannot be made, add fewer new entities.\\n\\nRemember, use the exact same number of words for each summary.\\n\\nAnswer in JSON. The JSON should be a list (length 5) of dictionaries whose keys are \"Missing Entities\" and \"Denser Summary\".\\n'"
      ]
     },
     "execution_count": 39,
     "metadata": {},
     "output_type": "execute_result"
    }
   ],
   "source": [
    "prompt"
   ]
  },
  {
   "cell_type": "code",
   "execution_count": 40,
   "id": "6ef94074",
   "metadata": {},
   "outputs": [],
   "source": [
    "encoding = tiktoken.encoding_for_model(\"gpt-4\")\n",
    "num_input_tokens = len(encoding.encode(prompt))"
   ]
  },
  {
   "cell_type": "code",
   "execution_count": 41,
   "id": "503f69c1",
   "metadata": {},
   "outputs": [],
   "source": [
    "# https://openai.com/pricing#language-models\n",
    "# GPT-4 costs as of 2023-12\n",
    "\n",
    "input_cost_per_token = 0.03 / 1_000\n",
    "output_cost_per_token = 0.06 / 1_000"
   ]
  },
  {
   "cell_type": "code",
   "execution_count": 42,
   "id": "c09d457d",
   "metadata": {},
   "outputs": [
    {
     "name": "stdout",
     "output_type": "stream",
     "text": [
      "Input will cost $0.06264 (2088 tokens)\n"
     ]
    }
   ],
   "source": [
    "print(f\"Input will cost ${input_cost_per_token * num_input_tokens} ({num_input_tokens} tokens)\")"
   ]
  },
  {
   "cell_type": "code",
   "execution_count": 43,
   "id": "68230368",
   "metadata": {},
   "outputs": [],
   "source": [
    "completion = client.chat.completions.create(\n",
    "  model=\"gpt-4\",\n",
    "  messages=[\n",
    "    {\"role\": \"user\", \"content\": prompt},\n",
    "  ]\n",
    ")"
   ]
  },
  {
   "cell_type": "code",
   "execution_count": 44,
   "id": "386138ed",
   "metadata": {},
   "outputs": [
    {
     "name": "stdout",
     "output_type": "stream",
     "text": [
      "Total cost: $0.09680999999999998\n"
     ]
    }
   ],
   "source": [
    "total_cost = input_cost_per_token * completion.usage.prompt_tokens\n",
    "total_cost += output_cost_per_token * completion.usage.completion_tokens\n",
    "print(f\"Total cost: ${total_cost}\")"
   ]
  },
  {
   "cell_type": "code",
   "execution_count": 45,
   "id": "4dffa8ee",
   "metadata": {},
   "outputs": [
    {
     "data": {
      "text/plain": [
       "dict_keys(['id', 'choices', 'created', 'model', 'object', 'system_fingerprint', 'usage'])"
      ]
     },
     "execution_count": 45,
     "metadata": {},
     "output_type": "execute_result"
    }
   ],
   "source": [
    "dict(completion).keys()"
   ]
  },
  {
   "cell_type": "code",
   "execution_count": 46,
   "id": "8e38ddd7",
   "metadata": {},
   "outputs": [
    {
     "data": {
      "text/plain": [
       "'chatcmpl-8QJbp7ZUiQeT8ERgMLayviHh95SV3'"
      ]
     },
     "execution_count": 46,
     "metadata": {},
     "output_type": "execute_result"
    }
   ],
   "source": [
    "completion.id"
   ]
  },
  {
   "cell_type": "code",
   "execution_count": 47,
   "id": "12bbf9ae",
   "metadata": {},
   "outputs": [
    {
     "data": {
      "text/plain": [
       "CompletionUsage(completion_tokens=566, prompt_tokens=2095, total_tokens=2661)"
      ]
     },
     "execution_count": 47,
     "metadata": {},
     "output_type": "execute_result"
    }
   ],
   "source": [
    "completion.usage"
   ]
  },
  {
   "cell_type": "code",
   "execution_count": 48,
   "id": "1b9463e8",
   "metadata": {},
   "outputs": [
    {
     "name": "stdout",
     "output_type": "stream",
     "text": [
      "[\n",
      "{\n",
      "\"Missing Entities\": \"Home insurance; Condominium insurance; Tenant's insurance\", \n",
      "\"Denser Summary\": \"This piece talks about home insurance, which protects properties and belongings from theft, loss, or damage. Insurance companies may also refer to home insurance as property and casualty insurance. Condominium insurance, another form of property protection, is different from home insurance. It covers internal damage or loss to the condominium or a storage locker. Tenant's insurance, on the other hand, could be considered by those who live in apartments or rent homes.\"\n",
      "},\n",
      "{\n",
      "\"Missing Entities\": \"Insurance for a home-based business; Liability coverage; Personal property coverage\",\n",
      "\"Denser Summary\": \"Home insurance encompasses property and casualty insurance, including home, condominium, and tenant's insurance. A home-based business, requiring notification to insurers, demands additional business insurance, as home insurance typically excludes business-related claims. Coverage types encompass personal property coverage, securing home, personal possessions, and cars from loss or damage, and liability coverage to safeguard against legal repercussions due to injuries or damage to others' properties.\"\n",
      "},\n",
      "{\n",
      "\"Missing Entities\": \"Home insurance exclusions; Home insurance premiums; deductible\",\n",
      "\"Denser Summary\": \"This article details how home insurance, condo insurance and tenant's insurance provide valuable protection. For a home-based business, dedicated insurance is needed as home insurance excludes business-related claims. Various factors affect insurance premiums, including location, residence specifics and claims history. A deductible, an out-of-pocket amount one pays before the insurance company covers a claim, is also prevalent. It also highlights the importance of understanding what is excluded from a typical home insurance policy.\" \n",
      "},\n",
      "{\n",
      "\"Missing Entities\": \"Actual cash value; Replacement value; loss payee clause\",\n",
      "\"Denser Summary\": \"The piece unpacks specific home, condominium, and tenant's insurance policies, essential for home-based businesses, each featuring personal property and liability coverage. Insurance costs are based on various factors and a specified deductible. It also outlines important exclusions in home insurance, including certain predictable and unexpected events. The article clarifies settlements, differentiating between actual cash value and replacement value. For homeowners with mortgages, a loss payee clause in the policy defines the lender as the beneficiary.\"\n",
      "},\n",
      "{\n",
      "\"Missing Entities\": \"Unexpected events; Predictable events; credit score\",\n",
      "\"Denser Summary\": \"Home insurance, condo insurance, and tenant's insurance policies protect homes, possessions, and liability, with factors affecting premiums being property characteristics and claims history, along with deductibles. Policies often exclude predictable events, like maintenance-related issues and some unexpected events, such as earthquakes. Settlements can either be actual cash value or replacement value. Mortgage holders often have a loss payee clause with the lender as beneficiary. In some regions, credit scores may impact insurance premiums.\" \n",
      "}\n",
      "]\n"
     ]
    }
   ],
   "source": [
    "print(completion.choices[0].message.content)"
   ]
  },
  {
   "cell_type": "code",
   "execution_count": 49,
   "id": "b909850a",
   "metadata": {},
   "outputs": [],
   "source": [
    "cod_summary = json.loads(completion.choices[0].message.content)"
   ]
  },
  {
   "cell_type": "code",
   "execution_count": 50,
   "id": "ea76cc0f",
   "metadata": {},
   "outputs": [
    {
     "data": {
      "text/plain": [
       "[{'Missing Entities': \"Home insurance; Condominium insurance; Tenant's insurance\",\n",
       "  'Denser Summary': \"This piece talks about home insurance, which protects properties and belongings from theft, loss, or damage. Insurance companies may also refer to home insurance as property and casualty insurance. Condominium insurance, another form of property protection, is different from home insurance. It covers internal damage or loss to the condominium or a storage locker. Tenant's insurance, on the other hand, could be considered by those who live in apartments or rent homes.\"},\n",
       " {'Missing Entities': 'Insurance for a home-based business; Liability coverage; Personal property coverage',\n",
       "  'Denser Summary': \"Home insurance encompasses property and casualty insurance, including home, condominium, and tenant's insurance. A home-based business, requiring notification to insurers, demands additional business insurance, as home insurance typically excludes business-related claims. Coverage types encompass personal property coverage, securing home, personal possessions, and cars from loss or damage, and liability coverage to safeguard against legal repercussions due to injuries or damage to others' properties.\"},\n",
       " {'Missing Entities': 'Home insurance exclusions; Home insurance premiums; deductible',\n",
       "  'Denser Summary': \"This article details how home insurance, condo insurance and tenant's insurance provide valuable protection. For a home-based business, dedicated insurance is needed as home insurance excludes business-related claims. Various factors affect insurance premiums, including location, residence specifics and claims history. A deductible, an out-of-pocket amount one pays before the insurance company covers a claim, is also prevalent. It also highlights the importance of understanding what is excluded from a typical home insurance policy.\"},\n",
       " {'Missing Entities': 'Actual cash value; Replacement value; loss payee clause',\n",
       "  'Denser Summary': \"The piece unpacks specific home, condominium, and tenant's insurance policies, essential for home-based businesses, each featuring personal property and liability coverage. Insurance costs are based on various factors and a specified deductible. It also outlines important exclusions in home insurance, including certain predictable and unexpected events. The article clarifies settlements, differentiating between actual cash value and replacement value. For homeowners with mortgages, a loss payee clause in the policy defines the lender as the beneficiary.\"},\n",
       " {'Missing Entities': 'Unexpected events; Predictable events; credit score',\n",
       "  'Denser Summary': \"Home insurance, condo insurance, and tenant's insurance policies protect homes, possessions, and liability, with factors affecting premiums being property characteristics and claims history, along with deductibles. Policies often exclude predictable events, like maintenance-related issues and some unexpected events, such as earthquakes. Settlements can either be actual cash value or replacement value. Mortgage holders often have a loss payee clause with the lender as beneficiary. In some regions, credit scores may impact insurance premiums.\"}]"
      ]
     },
     "execution_count": 50,
     "metadata": {},
     "output_type": "execute_result"
    }
   ],
   "source": [
    "cod_summary"
   ]
  },
  {
   "cell_type": "code",
   "execution_count": 51,
   "id": "6dd95c6e",
   "metadata": {},
   "outputs": [
    {
     "name": "stdout",
     "output_type": "stream",
     "text": [
      "[\n",
      "    {\n",
      "        \"Missing Entities\": \"Home insurance; Condominium insurance; Tenant's insurance\",\n",
      "        \"Denser Summary\": \"This piece talks about home insurance, which protects properties and belongings from theft, loss, or damage. Insurance companies may also refer to home insurance as property and casualty insurance. Condominium insurance, another form of property protection, is different from home insurance. It covers internal damage or loss to the condominium or a storage locker. Tenant's insurance, on the other hand, could be considered by those who live in apartments or rent homes.\"\n",
      "    },\n",
      "    {\n",
      "        \"Missing Entities\": \"Insurance for a home-based business; Liability coverage; Personal property coverage\",\n",
      "        \"Denser Summary\": \"Home insurance encompasses property and casualty insurance, including home, condominium, and tenant's insurance. A home-based business, requiring notification to insurers, demands additional business insurance, as home insurance typically excludes business-related claims. Coverage types encompass personal property coverage, securing home, personal possessions, and cars from loss or damage, and liability coverage to safeguard against legal repercussions due to injuries or damage to others' properties.\"\n",
      "    },\n",
      "    {\n",
      "        \"Missing Entities\": \"Home insurance exclusions; Home insurance premiums; deductible\",\n",
      "        \"Denser Summary\": \"This article details how home insurance, condo insurance and tenant's insurance provide valuable protection. For a home-based business, dedicated insurance is needed as home insurance excludes business-related claims. Various factors affect insurance premiums, including location, residence specifics and claims history. A deductible, an out-of-pocket amount one pays before the insurance company covers a claim, is also prevalent. It also highlights the importance of understanding what is excluded from a typical home insurance policy.\"\n",
      "    },\n",
      "    {\n",
      "        \"Missing Entities\": \"Actual cash value; Replacement value; loss payee clause\",\n",
      "        \"Denser Summary\": \"The piece unpacks specific home, condominium, and tenant's insurance policies, essential for home-based businesses, each featuring personal property and liability coverage. Insurance costs are based on various factors and a specified deductible. It also outlines important exclusions in home insurance, including certain predictable and unexpected events. The article clarifies settlements, differentiating between actual cash value and replacement value. For homeowners with mortgages, a loss payee clause in the policy defines the lender as the beneficiary.\"\n",
      "    },\n",
      "    {\n",
      "        \"Missing Entities\": \"Unexpected events; Predictable events; credit score\",\n",
      "        \"Denser Summary\": \"Home insurance, condo insurance, and tenant's insurance policies protect homes, possessions, and liability, with factors affecting premiums being property characteristics and claims history, along with deductibles. Policies often exclude predictable events, like maintenance-related issues and some unexpected events, such as earthquakes. Settlements can either be actual cash value or replacement value. Mortgage holders often have a loss payee clause with the lender as beneficiary. In some regions, credit scores may impact insurance premiums.\"\n",
      "    }\n",
      "]\n"
     ]
    }
   ],
   "source": [
    "print(json.dumps(cod_summary, indent=4))"
   ]
  },
  {
   "cell_type": "code",
   "execution_count": 52,
   "id": "d78704cc",
   "metadata": {},
   "outputs": [
    {
     "data": {
      "text/html": [
       "<h3>SUMMARY #1</h3>\n",
       "<div>New Topics: Home insurance; Condominium insurance; Tenant's insurance</div><br>\n",
       "<div>This piece talks about <b>home insurance [1]</b>, which protects properties and belongings from theft, loss, or damage. Insurance companies may also refer to <b>home insurance [1]</b> as property and casualty insurance. <b>Condominium insurance [1]</b>, another form of property protection, is different from <b>home insurance [1]</b>. It covers internal damage or loss to the condominium or a storage locker. <b>Tenant's insurance [1]</b>, on the other hand, could be considered by those who live in apartments or rent homes.</div>\n",
       "<hr>\n",
       "<h3>SUMMARY #2</h3>\n",
       "<div>New Topics: Insurance for a home-based business; Liability coverage; Personal property coverage</div><br>\n",
       "<div><b>Home insurance [1]</b> encompasses property and casualty insurance, including home, condominium, and <b>tenant's insurance [1]</b>. A home-based business, requiring notification to insurers, demands additional business insurance, as <b>home insurance [1]</b> typically excludes business-related claims. Coverage types encompass <b>personal property coverage [2]</b>, securing home, personal possessions, and cars from loss or damage, and <b>liability coverage [2]</b> to safeguard against legal repercussions due to injuries or damage to others' properties.</div>\n",
       "<hr>\n",
       "<h3>SUMMARY #3</h3>\n",
       "<div>New Topics: Home insurance exclusions; Home insurance premiums; deductible</div><br>\n",
       "<div>This article details how <b>home insurance [1]</b>, condo insurance and <b>tenant's insurance [1]</b> provide valuable protection. For a home-based business, dedicated insurance is needed as <b>home insurance [1]</b> excludes business-related claims. Various factors affect insurance premiums, including location, residence specifics and claims history. A <b>deductible [3]</b>, an out-of-pocket amount one pays before the insurance company covers a claim, is also prevalent. It also highlights the importance of understanding what is excluded from a typical <b>home insurance [1]</b> policy.</div>\n",
       "<hr>\n",
       "<h3>SUMMARY #4</h3>\n",
       "<div>New Topics: Actual cash value; Replacement value; loss payee clause</div><br>\n",
       "<div>The piece unpacks specific home, condominium, and <b>tenant's insurance [1]</b> policies, essential for home-based businesses, each featuring personal property and <b>liability coverage [2]</b>. Insurance costs are based on various factors and a specified <b>deductible [3]</b>. It also outlines important exclusions in <b>home insurance [1]</b>, including certain predictable and unexpected events. The article clarifies settlements, differentiating between <b>actual cash value [4]</b> and <b>replacement value [4]</b>. For homeowners with mortgages, a <b>loss payee clause [4]</b> in the policy defines the lender as the beneficiary.</div>\n",
       "<hr>\n",
       "<h3>SUMMARY #5</h3>\n",
       "<div>New Topics: Unexpected events; Predictable events; credit score</div><br>\n",
       "<div><b>Home insurance [1]</b>, condo insurance, and <b>tenant's insurance [1]</b> policies protect homes, possessions, and liability, with factors affecting premiums being property characteristics and claims history, along with <b>deductible [3]</b>s. Policies often exclude <b>predictable events [5]</b>, like maintenance-related issues and some <b>unexpected events [5]</b>, such as earthquakes. Settlements can either be <b>actual cash value [4]</b> or <b>replacement value [4]</b>. Mortgage holders often have a <b>loss payee clause [4]</b> with the lender as beneficiary. In some regions, <b>credit score [5]</b>s may impact insurance premiums.</div>\n",
       "<hr>"
      ],
      "text/plain": [
       "<IPython.core.display.HTML object>"
      ]
     },
     "execution_count": 52,
     "metadata": {},
     "output_type": "execute_result"
    }
   ],
   "source": [
    "HTML(\"\\n\".join(cod_summary_analysis_html(cod_summary)))"
   ]
  },
  {
   "cell_type": "code",
   "execution_count": null,
   "id": "be588d57",
   "metadata": {},
   "outputs": [],
   "source": []
  }
 ],
 "metadata": {
  "kernelspec": {
   "display_name": "Python 3 (ipykernel)",
   "language": "python",
   "name": "python3"
  },
  "language_info": {
   "codemirror_mode": {
    "name": "ipython",
    "version": 3
   },
   "file_extension": ".py",
   "mimetype": "text/x-python",
   "name": "python",
   "nbconvert_exporter": "python",
   "pygments_lexer": "ipython3",
   "version": "3.9.13"
  }
 },
 "nbformat": 4,
 "nbformat_minor": 5
}
